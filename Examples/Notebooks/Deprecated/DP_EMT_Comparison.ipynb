{
 "cells": [
  {
   "cell_type": "markdown",
   "metadata": {},
   "source": [
    "## Comparison of dynamic phasors and EMT for increasing time steps\n",
    "The circuit below is simulated. The voltage source (V = 1000) with resistance (R = 1) is implemented as Norton equivalent. The RX-series element represents a line (R = 1, L = 1). At 0.1 seconds, the load resistance is changed from R = 100 to R = 50.  The frequency of the voltage source changes from 50 Hz to 40 Hz at 0.2 seconds.  \n"
   ]
  },
  {
   "cell_type": "code",
   "execution_count": null,
   "metadata": {},
   "outputs": [],
   "source": [
    "# Configure matplotlib to show figures embedded in the notebook \n",
    "%matplotlib inline\n",
    "# Import plot tools and reload\n",
    "import importlib\n",
    "import PlotTools as pt\n",
    "importlib.reload(pt)\n",
    "# Define path to CSV files\n",
    "LogPath = '../VisualStudio/DPsimVS2015/Logs/'\n",
    "finalTime = '0.6'"
   ]
  },
  {
   "cell_type": "markdown",
   "metadata": {},
   "source": [
    "### Time step 50 µs"
   ]
  },
  {
   "cell_type": "code",
   "execution_count": null,
   "metadata": {
    "scrolled": false
   },
   "outputs": [],
   "source": [
    "pt.plotNodeVoltageDpEmt( \\\n",
    "    LogPath + 'LeftVectorLog_VarFreqRXLineResLoad_5e-05_'+ finalTime + '.csv',\n",
    "    LogPath + 'LeftVectorLog_VarFreqRXLineResLoadEMT_5e-05_'+ finalTime + '.csv',3)"
   ]
  },
  {
   "cell_type": "markdown",
   "metadata": {},
   "source": [
    "### Time step 1 ms"
   ]
  },
  {
   "cell_type": "code",
   "execution_count": null,
   "metadata": {
    "scrolled": true
   },
   "outputs": [],
   "source": [
    "pt.plotNodeVoltageDpEmtRef( \\\n",
    "    LogPath + 'LeftVectorLog_VarFreqRXLineResLoadEMT_5e-05_'+ finalTime + '.csv',\n",
    "    LogPath + 'LeftVectorLog_VarFreqRXLineResLoad_0.001_'+ finalTime + '.csv',\n",
    "    LogPath + 'LeftVectorLog_VarFreqRXLineResLoadEMT_0.001_'+ finalTime + '.csv',3)"
   ]
  },
  {
   "cell_type": "markdown",
   "metadata": {},
   "source": [
    "### Time step 5 ms"
   ]
  },
  {
   "cell_type": "code",
   "execution_count": null,
   "metadata": {},
   "outputs": [],
   "source": [
    "pt.plotNodeVoltageDpEmtRef( \\\n",
    "    LogPath + 'LeftVectorLog_VarFreqRXLineResLoadEMT_5e-05_'+ finalTime + '.csv',\n",
    "    LogPath + 'LeftVectorLog_VarFreqRXLineResLoad_0.005_'+ finalTime + '.csv',\n",
    "    LogPath + 'LeftVectorLog_VarFreqRXLineResLoadEMT_0.005_'+ finalTime + '.csv',3)"
   ]
  },
  {
   "cell_type": "markdown",
   "metadata": {},
   "source": [
    "### Time step 10 ms"
   ]
  },
  {
   "cell_type": "code",
   "execution_count": null,
   "metadata": {},
   "outputs": [],
   "source": [
    "importlib.reload(pt)\n",
    "pt.plotNodeVoltageDpEmtRef( \\\n",
    "    LogPath + 'LeftVectorLog_VarFreqRXLineResLoadEMT_5e-05_'+ finalTime + '.csv',\n",
    "    LogPath + 'LeftVectorLog_VarFreqRXLineResLoad_0.01_'+ finalTime + '.csv',\n",
    "    LogPath + 'LeftVectorLog_VarFreqRXLineResLoadEMT_0.01_'+ finalTime + '.csv',3)"
   ]
  },
  {
   "cell_type": "markdown",
   "metadata": {},
   "source": [
    "### Time step 15 ms"
   ]
  },
  {
   "cell_type": "code",
   "execution_count": null,
   "metadata": {},
   "outputs": [],
   "source": [
    "pt.plotNodeVoltageDpEmtRef( \\\n",
    "    LogPath + 'LeftVectorLog_VarFreqRXLineResLoadEMT_5e-05_'+ finalTime + '.csv',\n",
    "    LogPath + 'LeftVectorLog_VarFreqRXLineResLoad_0.015_'+ finalTime + '.csv',\n",
    "    LogPath + 'LeftVectorLog_VarFreqRXLineResLoadEMT_0.015_'+ finalTime + '.csv',3)"
   ]
  },
  {
   "cell_type": "markdown",
   "metadata": {},
   "source": [
    "### Time step 20 ms"
   ]
  },
  {
   "cell_type": "code",
   "execution_count": null,
   "metadata": {},
   "outputs": [],
   "source": [
    "pt.plotNodeVoltageDpEmtRef( \\\n",
    "    LogPath + 'LeftVectorLog_VarFreqRXLineResLoadEMT_5e-05_'+ finalTime + '.csv',\n",
    "    LogPath + 'LeftVectorLog_VarFreqRXLineResLoad_0.02_'+ finalTime + '.csv',\n",
    "    LogPath + 'LeftVectorLog_VarFreqRXLineResLoadEMT_0.02_'+ finalTime + '.csv',3)"
   ]
  },
  {
   "cell_type": "markdown",
   "metadata": {},
   "source": [
    "### Time step 25 ms"
   ]
  },
  {
   "cell_type": "code",
   "execution_count": null,
   "metadata": {},
   "outputs": [],
   "source": [
    "pt.plotNodeVoltageDpEmtRef( \\\n",
    "    LogPath + 'LeftVectorLog_VarFreqRXLineResLoadEMT_5e-05_'+ finalTime + '.csv',\n",
    "    LogPath + 'LeftVectorLog_VarFreqRXLineResLoad_0.025_'+ finalTime + '.csv',\n",
    "    LogPath + 'LeftVectorLog_VarFreqRXLineResLoadEMT_0.025_'+ finalTime + '.csv',3)"
   ]
  },
  {
   "cell_type": "markdown",
   "metadata": {},
   "source": [
    "### Time step 30 ms"
   ]
  },
  {
   "cell_type": "code",
   "execution_count": null,
   "metadata": {},
   "outputs": [],
   "source": [
    "pt.plotNodeVoltageDpEmtRef( \\\n",
    "    LogPath + 'LeftVectorLog_VarFreqRXLineResLoadEMT_5e-05_'+ finalTime + '.csv',\n",
    "    LogPath + 'LeftVectorLog_VarFreqRXLineResLoad_0.03_'+ finalTime + '.csv',\n",
    "    LogPath + 'LeftVectorLog_VarFreqRXLineResLoadEMT_0.03_'+ finalTime + '.csv',3)"
   ]
  },
  {
   "cell_type": "markdown",
   "metadata": {},
   "source": [
    "### Time step 35 ms"
   ]
  },
  {
   "cell_type": "code",
   "execution_count": null,
   "metadata": {},
   "outputs": [],
   "source": [
    "pt.plotNodeVoltageDpEmtRef( \\\n",
    "    LogPath + 'LeftVectorLog_VarFreqRXLineResLoadEMT_5e-05_'+ finalTime + '.csv',\n",
    "    LogPath + 'LeftVectorLog_VarFreqRXLineResLoad_0.035_'+ finalTime + '.csv',\n",
    "    LogPath + 'LeftVectorLog_VarFreqRXLineResLoadEMT_0.035_'+ finalTime + '.csv',3)"
   ]
  },
  {
   "cell_type": "markdown",
   "metadata": {},
   "source": [
    "### Time steo 40ms"
   ]
  },
  {
   "cell_type": "code",
   "execution_count": null,
   "metadata": {},
   "outputs": [],
   "source": [
    "pt.plotNodeVoltageDpEmtRef( \\\n",
    "    LogPath + 'LeftVectorLog_VarFreqRXLineResLoadEMT_5e-05_'+ finalTime + '.csv',\n",
    "    LogPath + 'LeftVectorLog_VarFreqRXLineResLoad_0.04_'+ finalTime + '.csv',\n",
    "    LogPath + 'LeftVectorLog_VarFreqRXLineResLoadEMT_0.04_'+ finalTime + '.csv',3)"
   ]
  },
  {
   "cell_type": "markdown",
   "metadata": {},
   "source": [
    "## Dynamic Phasors with interpolation before frequency shift"
   ]
  },
  {
   "cell_type": "markdown",
   "metadata": {},
   "source": [
    "Since the 50 Hz fundamental is implicitly included in the dynamic phasor solution, we could linearly interpolate the real and imaginary component before calculating the shifted signal.\n",
    "\n",
    "### Time step 20 ms"
   ]
  },
  {
   "cell_type": "code",
   "execution_count": null,
   "metadata": {},
   "outputs": [],
   "source": [
    "pt.plotNodeVoltageInterpDpRef( \\\n",
    "    LogPath + 'LeftVectorLog_VarFreqRXLineResLoadEMT_5e-05_'+ finalTime + '.csv',\n",
    "    LogPath + 'LeftVectorLog_VarFreqRXLineResLoad_0.02_'+ finalTime + '.csv',3)"
   ]
  },
  {
   "cell_type": "markdown",
   "metadata": {},
   "source": [
    "The transients of this simulation scenario are quite fast. In steady state the results look much better. The following plot shows a simulation over one second."
   ]
  },
  {
   "cell_type": "code",
   "execution_count": null,
   "metadata": {
    "collapsed": true
   },
   "outputs": [],
   "source": []
  }
 ],
 "metadata": {
  "anaconda-cloud": {},
  "kernelspec": {
   "display_name": "Python 3",
   "language": "python",
   "name": "python3"
  },
  "language_info": {
   "codemirror_mode": {
    "name": "ipython",
    "version": 3
   },
   "file_extension": ".py",
   "mimetype": "text/x-python",
   "name": "python",
   "nbconvert_exporter": "python",
   "pygments_lexer": "ipython3",
   "version": "3.6.4"
  }
 },
 "nbformat": 4,
 "nbformat_minor": 2
}
