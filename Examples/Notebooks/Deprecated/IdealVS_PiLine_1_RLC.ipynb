{
 "cells": [
  {
   "cell_type": "code",
   "execution_count": 3,
   "metadata": {},
   "outputs": [],
   "source": [
    "import dpsim\n",
    "import dataprocessing.readtools as rt\n",
    "import dataprocessing.timeseries as ts"
   ]
  },
  {
   "cell_type": "code",
   "execution_count": 3,
   "metadata": {},
   "outputs": [],
   "source": [
    "# Nodes\n",
    "gnd = dpsim.dp.Node.GND()\n",
    "n1 =  dpsim.dp.Node(\"n1\")\n",
    "n2 =  dpsim.dp.Node(\"n2\")\n",
    "n3 =  dpsim.dp.Node(\"n3\")\n",
    "n4 =  dpsim.dp.Node(\"n4\")\n",
    "\n",
    "# Components\n",
    "v1 =  dpsim.dp.ph1.VoltageSource(\"v_1\", [gnd, n1], voltage_ref=345)\n",
    "r1 =  dpsim.dp.ph1.Resistor(\"r1\", [n1, n2], resistance=5)\n",
    "c1 =  dpsim.dp.ph1.Capacitor(\"c_1\", [n2, gnd], capacitance=0.002)\n",
    "rL1 = dpsim.dp.ph1.Resistor(\"r_load1\", [n2, n4], resistance=6.4)\n",
    "l1 =  dpsim.dp.ph1.Inductor(\"l_1\", [n4, n3], inductance=0.186)\n",
    "c2 =  dpsim.dp.ph1.Capacitor(\"c_2\", [n3, gnd], capacitance=0.002)\n",
    "rL2 = dpsim.dp.ph1.Resistor(\"r_load2\", [n3, gnd], resistance=150)"
   ]
  },
  {
   "cell_type": "code",
   "execution_count": 3,
   "metadata": {},
   "outputs": [],
   "source": [
    "system = dpsim.SystemTopology(50, [gnd, n1, n2, n3, n4], [v1, r1, c1, rL1, l1, c2, rL2])\n",
    "\n",
    "sim = dpsim.Simulation('IdealVS_PiLine_RLC_1', system, duration=0.2, timestep=0.00005)\n",
    "sim.run()"
   ]
  },
  {
   "cell_type": "code",
   "execution_count": 3,
   "metadata": {},
   "outputs": [
    {
     "ename": "AttributeError",
     "evalue": "module 'dpsim' has no attribute 'dp'",
     "output_type": "error",
     "traceback": [
      "\u001b[0;31m---------------------------------------------------------------------------\u001b[0m",
      "\u001b[0;31mAttributeError\u001b[0m                            Traceback (most recent call last)",
      "\u001b[0;32m<ipython-input-3-674cf6e92b01>\u001b[0m in \u001b[0;36m<module>\u001b[0;34m()\u001b[0m\n\u001b[1;32m      5\u001b[0m \u001b[0;34m\u001b[0m\u001b[0m\n\u001b[1;32m      6\u001b[0m \u001b[0;31m# Nodes\u001b[0m\u001b[0;34m\u001b[0m\u001b[0;34m\u001b[0m\u001b[0m\n\u001b[0;32m----> 7\u001b[0;31m \u001b[0mgnd\u001b[0m \u001b[0;34m=\u001b[0m \u001b[0mdpsim\u001b[0m\u001b[0;34m.\u001b[0m\u001b[0mdp\u001b[0m\u001b[0;34m.\u001b[0m\u001b[0mNode\u001b[0m\u001b[0;34m.\u001b[0m\u001b[0mGND\u001b[0m\u001b[0;34m(\u001b[0m\u001b[0;34m)\u001b[0m\u001b[0;34m\u001b[0m\u001b[0m\n\u001b[0m\u001b[1;32m      8\u001b[0m \u001b[0mn1\u001b[0m \u001b[0;34m=\u001b[0m  \u001b[0mdpsim\u001b[0m\u001b[0;34m.\u001b[0m\u001b[0mdp\u001b[0m\u001b[0;34m.\u001b[0m\u001b[0mNode\u001b[0m\u001b[0;34m(\u001b[0m\u001b[0;34m\"n1\"\u001b[0m\u001b[0;34m)\u001b[0m\u001b[0;34m\u001b[0m\u001b[0m\n\u001b[1;32m      9\u001b[0m \u001b[0mn2\u001b[0m \u001b[0;34m=\u001b[0m  \u001b[0mdpsim\u001b[0m\u001b[0;34m.\u001b[0m\u001b[0mdp\u001b[0m\u001b[0;34m.\u001b[0m\u001b[0mNode\u001b[0m\u001b[0;34m(\u001b[0m\u001b[0;34m\"n2\"\u001b[0m\u001b[0;34m)\u001b[0m\u001b[0;34m\u001b[0m\u001b[0m\n",
      "\u001b[0;31mAttributeError\u001b[0m: module 'dpsim' has no attribute 'dp'"
     ]
    }
   ],
   "source": [
    "results = rt.read_timeseries_dpsim_cmpl('Logs/' + sim.name + '_LeftVector.csv')\n",
    "expected = rt.read_timeseries_dpsim_real('Examples/Results/Simulink/Circuits/SL_' + sim.name + '.csv')\n",
    "\n",
    "err = 0\n",
    "err += ts.TimeSeries.rmse(expected[0], results[0].dynphasor_shift_to_emt('n1_emt', 50))\n",
    "err += ts.TimeSeries.rmse(expected[1], results[1].dynphasor_shift_to_emt('n2_emt', 50))\n",
    "\n",
    "print(\"Total RMSE: %g\" % (err))\n",
    "\n",
    "assert err < 1e-4"
   ]
  }
 ],
 "metadata": {
  "kernelspec": {
   "display_name": "Python 3",
   "language": "python",
   "name": "python3"
  },
  "language_info": {
   "codemirror_mode": {
    "name": "ipython",
    "version": 3
   },
   "file_extension": ".py",
   "mimetype": "text/x-python",
   "name": "python",
   "nbconvert_exporter": "python",
   "pygments_lexer": "ipython3",
   "version": "3.6.5"
  }
 },
 "nbformat": 4,
 "nbformat_minor": 2
}
