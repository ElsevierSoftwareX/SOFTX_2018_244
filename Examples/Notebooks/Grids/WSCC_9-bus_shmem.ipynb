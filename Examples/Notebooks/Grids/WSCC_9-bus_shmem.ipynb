{
 "cells": [
  {
   "cell_type": "markdown",
   "metadata": {},
   "source": [
    "# WSCC 9-bus System Tests"
   ]
  },
  {
   "cell_type": "markdown",
   "metadata": {},
   "source": [
    "## Monolithic Simulation"
   ]
  },
  {
   "cell_type": "code",
   "execution_count": 15,
   "metadata": {},
   "outputs": [],
   "source": [
    "from dataprocessing.dpsim import *\n",
    "from dataprocessing.plottools import *"
   ]
  },
  {
   "cell_type": "markdown",
   "metadata": {},
   "source": [
    "### Read log files and list all column names"
   ]
  },
  {
   "cell_type": "code",
   "execution_count": 16,
   "metadata": {},
   "outputs": [
    {
     "name": "stdout",
     "output_type": "stream",
     "text": [
      "../dpsim/Logs/WSCC-9bus_LeftVector.csv\n",
      "DPsim results real column names: []\n",
      "DPsim results complex column names: ['node00000', 'node00001', 'node00002', 'node00003', 'node00004', 'node00005', 'node00006', 'node00007', 'node00008', 'node00009', 'node00010', 'node00011', 'node00012', 'node00013', 'node00014', 'node00015', 'node00016', 'node00017', 'node00018', 'node00019', 'node00020', 'node00021', 'node00022', 'node00023']\n",
      "DPsim results variable number: 24\n",
      "DPsim results length: 1000\n"
     ]
    }
   ],
   "source": [
    "path_orig = '../dpsim/Logs/'\n",
    "logName_orig = 'WSCC-9bus_LeftVector'\n",
    "logFilename_orig = path_orig + logName_orig + '.csv'\n",
    "print(logFilename_orig)\n",
    "\n",
    "ts_dpsim_orig = read_timeseries_dpsim(logFilename_orig)"
   ]
  },
  {
   "cell_type": "markdown",
   "metadata": {},
   "source": [
    "### Phasors at first time step"
   ]
  },
  {
   "cell_type": "code",
   "execution_count": 17,
   "metadata": {},
   "outputs": [
    {
     "name": "stdout",
     "output_type": "stream",
     "text": [
      "node00000: 18449.99552327233<9.684590296261968\n",
      "node00001: 229395.00269874255<3.9604469587125277\n",
      "node00002: 225198.4526737915<0.819821467487452\n",
      "node00003: 218642.19223228647<-4.1525866964316895\n",
      "node00004: 17160.0<-0.0\n",
      "node00005: 230945.74324995282<2.090082707174437\n",
      "node00006: 222218.63887500527<-3.7474434170536766\n",
      "node00007: 229009.63678605887<-2.3232329203220035\n",
      "node00008: 14145.002833538387<4.867982745992806\n",
      "node00009: 9305.130983555524<171.53961867547466\n",
      "node00010: 6607.440262217284<160.4765212379745\n",
      "node00011: 219638.0276742404<-4.436908286070751\n",
      "node00012: 223467.36906720765<-4.007028084718213\n",
      "node00013: 223006.65695303807<4.294935864672019\n",
      "node00014: 225515.9473457084<2.3499186338344447\n",
      "node00015: 227896.36553209095<4.050576316491891\n",
      "node00016: 225873.72245705724<0.6695515682511094\n",
      "node00017: 6358.05931343936<131.71187681855903\n",
      "node00018: 235750.03182134865<9.684588658515398\n",
      "node00019: 728.2277008338875<-8.460384442512206\n",
      "node00020: 239200.0<0.0\n",
      "node00021: 456.1216538792803<-48.28811597119204\n",
      "node00022: 235749.98051658118<4.867983313733503\n",
      "node00023: 396.446414531548<-19.523469623213327\n"
     ]
    }
   ],
   "source": [
    "phasors_orig = get_node_voltage_phasors(ts_dpsim_orig)\n",
    "for node, phasor in phasors_orig.items():\n",
    "    print(node + ': ' + str(phasor['abs'].values[0]) + '<' + str(phasor['phase'].values[0]))"
   ]
  },
  {
   "cell_type": "markdown",
   "metadata": {},
   "source": [
    "### Phasors at last time step"
   ]
  },
  {
   "cell_type": "code",
   "execution_count": 18,
   "metadata": {},
   "outputs": [
    {
     "name": "stdout",
     "output_type": "stream",
     "text": [
      "node00000: 18449.99552327233<9.684590296261968\n",
      "node00001: 229395.9033122268<3.9604413997366423\n",
      "node00002: 225198.4526880996<0.8198217218849122\n",
      "node00003: 218642.19223228647<-4.1525866964316895\n",
      "node00004: 17160.0<-0.0\n",
      "node00005: 230946.24324555034<2.0900804144736282\n",
      "node00006: 222218.63952859154<-3.747445989892397\n",
      "node00007: 229012.33419012427<-2.3120671366205596\n",
      "node00008: 14145.002833538387<4.867982745992806\n",
      "node00009: 9305.130983555524<171.53961867547466\n",
      "node00010: 6607.440262217284<160.4765212379745\n",
      "node00011: 219638.0276742404<-4.436908286070751\n",
      "node00012: 223467.36976599626<-4.007030642394497\n",
      "node00013: 223007.45845097312<4.294933281853421\n",
      "node00014: 225516.44729425522<2.349915709872242\n",
      "node00015: 227897.26681581966<4.050572872616439\n",
      "node00016: 225873.72245705724<0.6695515682511094\n",
      "node00017: 6358.060059939667<131.7118708224284\n",
      "node00018: 235750.03182134865<9.684588658515398\n",
      "node00019: 728.2277008338875<-8.460384442512206\n",
      "node00020: 239200.0<0.0\n",
      "node00021: 456.1216619908005<-48.28813370660802\n",
      "node00022: 235749.98051658118<4.867983313733503\n",
      "node00023: 396.44644795085503<-19.52348324460922\n"
     ]
    }
   ],
   "source": [
    "for node, phasor in phasors_orig.items():\n",
    "    print(node + ': ' + str(phasor['abs'].values[-1]) + '<' + str(phasor['phase'].values[-1]))"
   ]
  },
  {
   "cell_type": "markdown",
   "metadata": {},
   "source": [
    "### Phasors at last time step in per unit"
   ]
  },
  {
   "cell_type": "code",
   "execution_count": 19,
   "metadata": {},
   "outputs": [
    {
     "name": "stdout",
     "output_type": "stream",
     "text": [
      "node00000: 1.0249997512929072<9.684590296261968\n",
      "node00001: 0.9973695769510545<3.9604469587125277\n",
      "node00002: 0.9791237072773543<0.819821467487452\n",
      "node00003: 0.9506182270968977<-4.1525866964316895\n",
      "node00004: 1.04<-0.0\n",
      "node00005: 1.004111927173708<2.090082707174437\n",
      "node00006: 0.9661679951087185<-3.7474434170536766\n",
      "node00007: 0.9956940729828646<-2.3232329203220035\n",
      "node00008: 1.0250002053288687<4.867982745992806\n"
     ]
    }
   ],
   "source": [
    "nominal_voltages_orig = {'node00000': 18000, 'node00001': 230000, 'node00002': 230000, \n",
    "                         'node00003': 230000, 'node00004': 16500, 'node00005': 230000, \n",
    "                         'node00006': 230000, 'node00007': 230000, 'node00008': 13800}\n",
    "for node, nom_voltage in nominal_voltages_orig.items():\n",
    "    print(node + ': ' + str(phasors_orig[node]['abs'].values[0] / nom_voltage) + '<' + str(phasors_orig[node]['phase'].values[0]))"
   ]
  },
  {
   "cell_type": "markdown",
   "metadata": {},
   "source": [
    "### Plot node phase\n",
    "The phase at node 8 is not initialized properly since the CIM load flow data is not accurate. Therefore, the steady-state initialization implemented in the MNA solver is executed first so that the initial phase at t=0 is already very close to the correct one.\n",
    "Using PI-lines with parallel impedances to ground not only during the initialization but also the simulation or more accurate CIM load flow results would probably further improve the results because the values around n8 have still not converged completely."
   ]
  },
  {
   "cell_type": "code",
   "execution_count": 20,
   "metadata": {},
   "outputs": [
    {
     "data": {
      "image/png": "[encoded data removed]",
      "text/plain": [
       "<Figure size 432x288 with 1 Axes>"
      ]
     },
     "metadata": {},
     "output_type": "display_data"
    }
   ],
   "source": [
    "plot_timeseries(1, phasors_orig['node00007']['phase'])"
   ]
  },
  {
   "cell_type": "markdown",
   "metadata": {},
   "source": [
    "### Plot node voltages"
   ]
  },
  {
   "cell_type": "code",
   "execution_count": 21,
   "metadata": {},
   "outputs": [
    {
     "data": {
      "text/plain": [
       "(200000, 240000)"
      ]
     },
     "execution_count": 21,
     "metadata": {},
     "output_type": "execute_result"
    },
    {
     "data": {
      "image/png": "[encoded data removed]",
      "text/plain": [
       "<Figure size 432x288 with 1 Axes>"
      ]
     },
     "metadata": {},
     "output_type": "display_data"
    }
   ],
   "source": [
    "plot_timeseries(2, phasors_orig['node00001']['abs'])\n",
    "plot_timeseries(2, phasors_orig['node00002']['abs'])\n",
    "plot_timeseries(2, phasors_orig['node00003']['abs'])\n",
    "plot_timeseries(2, phasors_orig['node00005']['abs'])\n",
    "plot_timeseries(2, phasors_orig['node00006']['abs'])\n",
    "plot_timeseries(2, phasors_orig['node00007']['abs'])\n",
    "plt.gca().axes.set_ylim([200000,240000])"
   ]
  },
  {
   "cell_type": "markdown",
   "metadata": {},
   "source": [
    "The results for n2 are very good."
   ]
  },
  {
   "cell_type": "code",
   "execution_count": 22,
   "metadata": {},
   "outputs": [
    {
     "data": {
      "text/plain": [
       "(229300, 229500)"
      ]
     },
     "execution_count": 22,
     "metadata": {},
     "output_type": "execute_result"
    },
    {
     "data": {
      "image/png": "[encoded data removed]",
      "text/plain": [
       "<Figure size 432x288 with 1 Axes>"
      ]
     },
     "metadata": {},
     "output_type": "display_data"
    }
   ],
   "source": [
    "plot_timeseries(2, phasors_orig['node00001']['abs'])\n",
    "plt.gca().axes.set_ylim([229300,229500])"
   ]
  },
  {
   "cell_type": "markdown",
   "metadata": {},
   "source": [
    "## Shmem Simulation"
   ]
  },
  {
   "cell_type": "code",
   "execution_count": 90,
   "metadata": {},
   "outputs": [],
   "source": [
    "from dataprocessing.dpsim import *\n",
    "from dataprocessing.plottools import *"
   ]
  },
  {
   "cell_type": "markdown",
   "metadata": {},
   "source": [
    "### Read log files and list all column names"
   ]
  },
  {
   "cell_type": "code",
   "execution_count": 102,
   "metadata": {},
   "outputs": [
    {
     "name": "stdout",
     "output_type": "stream",
     "text": [
      "D:/mmi/git/Simulation/dpsim/build/Logs/Shmem_WSCC-9bus_LeftVector.csv\n",
      "DPsim results column names: ['NodeRe0000', 'NodeRe0001', 'NodeRe0002', 'NodeRe0003', 'NodeRe0004', 'NodeRe0005', 'NodeRe0006', 'NodeRe0007', 'NodeRe0008', 'NodeRe0009', 'NodeRe0010', 'NodeRe0011', 'NodeRe0012', 'NodeRe0013', 'NodeRe0014', 'NodeRe0015', 'NodeRe0016', 'NodeRe0017', 'NodeRe0018', 'NodeRe0019', 'NodeRe0020', 'NodeRe0021', 'NodeRe0022', 'NodeRe0023', 'NodeIm0000', 'NodeIm0001', 'NodeIm0002', 'NodeIm0003', 'NodeIm0004', 'NodeIm0005', 'NodeIm0006', 'NodeIm0007', 'NodeIm0008', 'NodeIm0009', 'NodeIm0010', 'NodeIm0011', 'NodeIm0012', 'NodeIm0013', 'NodeIm0014', 'NodeIm0015', 'NodeIm0016', 'NodeIm0017', 'NodeIm0018', 'NodeIm0019', 'NodeIm0020', 'NodeIm0021', 'NodeIm0022', 'NodeIm0023']\n",
      "DPsim results number: 24\n"
     ]
    }
   ],
   "source": [
    "path_shmem = 'D:/mmi/git/Simulation/dpsim/build/Logs/'\n",
    "logName_shmem = 'Shmem_WSCC-9bus_LeftVector'\n",
    "logFilename_shmem = path_shmem + logName_shmem + '.csv'\n",
    "print(logFilename_shmem)\n",
    "\n",
    "ts_dpsim_shmem = read_timeseries_dpsim_cmpl(logFilename_shmem)"
   ]
  },
  {
   "cell_type": "markdown",
   "metadata": {},
   "source": [
    "### Phasors at first time step"
   ]
  },
  {
   "cell_type": "code",
   "execution_count": 103,
   "metadata": {},
   "outputs": [
    {
     "name": "stdout",
     "output_type": "stream",
     "text": [
      "n1: 18449.99552327233<9.684590296261968\n",
      "n2: 229466.25091261242<3.9578362063966774\n",
      "n3: 225324.38938170258<0.8166843551677997\n",
      "n4: 218763.14396392298<-4.15777078609994\n",
      "n5: 17160.0<-0.0\n",
      "n6: 231218.5230502228<2.0873517605318397\n",
      "n7: 222397.98623088948<-3.7528156554664744\n",
      "n8: 229475.20638715234<-2.327460074910602\n",
      "n9: 14145.002833538387<4.867982745992806\n",
      "n10: 9306.740314197717<171.53878945909545\n",
      "n11: 6611.252815575879<160.48315193927397\n",
      "n12: 219759.69751398548<-4.441978199922051\n",
      "n13: 223648.23073561504<-4.01222901172353\n",
      "n14: 223074.76585355506<4.292251816593157\n",
      "n15: 225785.29042843002<2.3469248485719616\n",
      "n16: 227966.79921255662<4.047934429269616\n",
      "n17: 226000.1897331193<0.6664777101234622\n",
      "n18: 6363.736702928084<131.74929284168925\n",
      "n19: 235750.03182134865<9.684588658515398\n",
      "n20: 728.353515418749<-8.461210719831175\n",
      "n21: 239200.0<0.0\n",
      "n22: 456.5288826572203<-48.25070870780739\n",
      "n23: 235749.98051658118<4.867983313733503\n",
      "n24: 396.67513672032686<-19.51684358018809\n"
     ]
    }
   ],
   "source": [
    "phasors_shmem = get_node_voltage_phasors(ts_dpsim_shmem)\n",
    "for node, phasor in phasors_shmem.items():\n",
    "    print(node + ': ' + str(phasor['abs'].values[0]) + '<' + str(phasor['phase'].values[0]))"
   ]
  },
  {
   "cell_type": "markdown",
   "metadata": {},
   "source": [
    "### Phasors at last time step"
   ]
  },
  {
   "cell_type": "code",
   "execution_count": 104,
   "metadata": {},
   "outputs": [
    {
     "name": "stdout",
     "output_type": "stream",
     "text": [
      "n1: 18449.99552327233<9.684590296261968\n",
      "n2: 229394.48782463823<3.9614823696077868\n",
      "n3: 225198.48851518126<0.8204584786260875\n",
      "n4: 218641.5758996893<-4.152895322669745\n",
      "n5: 17160.0<-0.0\n",
      "n6: 230919.9346294488<2.090140870226542\n",
      "n7: 222218.1983392728<-3.748076156327938\n",
      "n8: 228998.09255743885<-2.314979995433578\n",
      "n9: 14145.002833538387<4.867982745992806\n",
      "n10: 9303.54719647189<171.53809314678165\n",
      "n11: 6607.291947773006<160.4757891853069\n",
      "n12: 219637.1211873405<-4.437232765093572\n",
      "n13: 223466.64248448383<-4.0076708423873075\n",
      "n14: 223005.06188932125<4.295997240822129\n",
      "n15: 225489.5393283103<2.350006571314965\n",
      "n16: 227895.65556010517<4.051614767738431\n",
      "n17: 225873.55151145929<0.670182217147173\n",
      "n18: 6359.513284650092<131.72268604849967\n",
      "n19: 235750.03182134865<9.684588658515398\n",
      "n20: 728.1036992170071<-8.461907479699407\n",
      "n21: 239200.0<0.0\n",
      "n22: 456.2260099943886<-48.2773206963929\n",
      "n23: 235749.98051658118<4.867983313733503\n",
      "n24: 396.43749681407536<-19.524202641708534\n"
     ]
    }
   ],
   "source": [
    "for node, phasor in phasors_shmem.items():\n",
    "    print(node + ': ' + str(phasor['abs'].values[-1]) + '<' + str(phasor['phase'].values[-1]))"
   ]
  },
  {
   "cell_type": "markdown",
   "metadata": {},
   "source": [
    "### Phasors at last time step in per unit"
   ]
  },
  {
   "cell_type": "code",
   "execution_count": 105,
   "metadata": {},
   "outputs": [
    {
     "name": "stdout",
     "output_type": "stream",
     "text": [
      "n1: 1.0249997512929072<9.684590296261968\n",
      "n2: 0.997679351793967<3.9578362063966774\n",
      "n3: 0.9796712581813156<0.8166843551677997\n",
      "n4: 0.9511441041909695<-4.15777078609994\n",
      "n5: 1.04<-0.0\n",
      "n6: 1.0052979263053166<2.0873517605318397\n",
      "n7: 0.9669477662212587<-3.7528156554664744\n",
      "n8: 0.9977182886397928<-2.327460074910602\n",
      "n9: 1.0250002053288687<4.867982745992806\n"
     ]
    }
   ],
   "source": [
    "nominal_voltages_shmem = {'n1': 18000, 'n2': 230000, 'n3': 230000, 'n4': 230000, 'n5': 16500, 'n6': 230000, 'n7': 230000, 'n8': 230000, 'n9': 13800}\n",
    "for node, nom_voltage in nominal_voltages_shmem.items():\n",
    "    print(node + ': ' + str(phasors_shmem[node]['abs'].values[0] / nom_voltage) + '<' + str(phasors_shmem[node]['phase'].values[0]))"
   ]
  },
  {
   "cell_type": "markdown",
   "metadata": {},
   "source": [
    "### Plot node voltages"
   ]
  },
  {
   "cell_type": "code",
   "execution_count": 106,
   "metadata": {},
   "outputs": [
    {
     "data": {
      "text/plain": [
       "(200000, 240000)"
      ]
     },
     "execution_count": 106,
     "metadata": {},
     "output_type": "execute_result"
    },
    {
     "data": {
      "image/png": "[encoded data removed]",
      "text/plain": [
       "<Figure size 432x288 with 1 Axes>"
      ]
     },
     "metadata": {},
     "output_type": "display_data"
    }
   ],
   "source": [
    "plot_timeseries(2, phasors_shmem['n2']['abs'])\n",
    "plot_timeseries(2, phasors_shmem['n3']['abs'])\n",
    "plot_timeseries(2, phasors_shmem['n4']['abs'])\n",
    "plot_timeseries(2, phasors_shmem['n6']['abs'])\n",
    "plot_timeseries(2, phasors_shmem['n7']['abs'])\n",
    "plot_timeseries(2, phasors_shmem['n8']['abs'])\n",
    "plot_timeseries(2, phasors_shmem['n2']['abs'])\n",
    "plt.gca().axes.set_ylim([200000,240000])"
   ]
  },
  {
   "cell_type": "markdown",
   "metadata": {},
   "source": [
    "## Shmem Controlled Load Simulation"
   ]
  },
  {
   "cell_type": "code",
   "execution_count": 179,
   "metadata": {},
   "outputs": [],
   "source": [
    "from dataprocessing.dpsim import *\n",
    "from dataprocessing.plottools import *"
   ]
  },
  {
   "cell_type": "markdown",
   "metadata": {},
   "source": [
    "### Read log files and list all column names"
   ]
  },
  {
   "cell_type": "code",
   "execution_count": 180,
   "metadata": {},
   "outputs": [
    {
     "name": "stdout",
     "output_type": "stream",
     "text": [
      "D:/mmi/git/Simulation/dpsim/build/Logs/Shmem_WSCC-9bus_Ctrl_LeftVector.csv\n",
      "DPsim results column names: ['NodeRe0000', 'NodeRe0001', 'NodeRe0002', 'NodeRe0003', 'NodeRe0004', 'NodeRe0005', 'NodeRe0006', 'NodeRe0007', 'NodeRe0008', 'NodeRe0009', 'NodeRe0010', 'NodeRe0011', 'NodeRe0012', 'NodeRe0013', 'NodeRe0014', 'NodeRe0015', 'NodeRe0016', 'NodeRe0017', 'NodeRe0018', 'NodeRe0019', 'NodeRe0020', 'NodeRe0021', 'NodeRe0022', 'NodeRe0023', 'NodeIm0000', 'NodeIm0001', 'NodeIm0002', 'NodeIm0003', 'NodeIm0004', 'NodeIm0005', 'NodeIm0006', 'NodeIm0007', 'NodeIm0008', 'NodeIm0009', 'NodeIm0010', 'NodeIm0011', 'NodeIm0012', 'NodeIm0013', 'NodeIm0014', 'NodeIm0015', 'NodeIm0016', 'NodeIm0017', 'NodeIm0018', 'NodeIm0019', 'NodeIm0020', 'NodeIm0021', 'NodeIm0022', 'NodeIm0023']\n",
      "DPsim results number: 24\n"
     ]
    }
   ],
   "source": [
    "path_ctrl = 'D:/mmi/git/Simulation/dpsim/build/Logs/'\n",
    "logName_ctrl = 'Shmem_WSCC-9bus_Ctrl_LeftVector'\n",
    "logFilename_ctrl = path_ctrl + logName_ctrl + '.csv'\n",
    "print(logFilename_ctrl)\n",
    "\n",
    "ts_dpsim_ctrl = read_timeseries_dpsim_cmpl(logFilename_ctrl)"
   ]
  },
  {
   "cell_type": "markdown",
   "metadata": {},
   "source": [
    "### Phasors at first time step"
   ]
  },
  {
   "cell_type": "code",
   "execution_count": 181,
   "metadata": {},
   "outputs": [
    {
     "name": "stdout",
     "output_type": "stream",
     "text": [
      "n1: 18449.99552327233<9.684590296261968\n",
      "n2: 229428.92976745893<3.959166955541561\n",
      "n3: 225254.84431388002<0.8177899789788123\n",
      "n4: 218708.7398725986<-4.156466518930222\n",
      "n5: 17160.0<-0.0\n",
      "n6: 230987.9166766169<2.089030762196945\n",
      "n7: 222300.3117037421<-3.7513777347353714\n",
      "n8: 229079.6372221115<-2.3259639988162664\n",
      "n9: 14145.002833538387<4.867982745992806\n",
      "n10: 9305.154656381483<171.5380529362009\n",
      "n11: 6609.207131838206<160.47864112140996\n",
      "n12: 219704.7646968634<-4.440739536524085\n",
      "n13: 223549.42693941668<-4.010904086898864\n",
      "n14: 223038.3656913942<4.293631147009666\n",
      "n15: 225556.20910055147<2.3488521680253545\n",
      "n16: 227929.8854962475<4.0492815835485265\n",
      "n17: 225930.33380541543<0.6675407594200299\n",
      "n18: 6361.723764634394<131.73384718686228\n",
      "n19: 235750.03182134865<9.684588658515398\n",
      "n20: 728.2294419617212<-8.461946991142428\n",
      "n21: 239200.0<0.0\n",
      "n22: 456.38453330990524<-48.26615124979199\n",
      "n23: 235749.98051658118<4.867983313733503\n",
      "n24: 396.5524078608022<-19.52135070782957\n"
     ]
    }
   ],
   "source": [
    "phasors_ctrl = get_node_voltage_phasors(ts_dpsim_ctrl)\n",
    "for node, phasor in phasors_ctrl.items():\n",
    "    print(node + ': ' + str(phasor['abs'].values[0]) + '<' + str(phasor['phase'].values[0]))"
   ]
  },
  {
   "cell_type": "markdown",
   "metadata": {},
   "source": [
    "### Phasors at last time step"
   ]
  },
  {
   "cell_type": "code",
   "execution_count": 182,
   "metadata": {},
   "outputs": [
    {
     "name": "stdout",
     "output_type": "stream",
     "text": [
      "n1: 18449.99552327233<9.684590296261968\n",
      "n2: 226668.16057375958<-1.648917624158375\n",
      "n3: 223260.61884544016<-3.4191664280255054\n",
      "n4: 225048.1504301024<-28.62867747309946\n",
      "n5: 17160.0<-0.0\n",
      "n6: 229982.3919495617<-0.25015314085608653\n",
      "n7: 219648.6504782117<-10.187526304463816\n",
      "n8: 226995.87161277537<-10.986522874401398\n",
      "n9: 14145.002833538387<4.867982745992806\n",
      "n10: 17988.812179960103<172.8222699483027\n",
      "n11: 11601.31438044914<166.82218842637192\n",
      "n12: 232924.93214699024<-28.14808214626115\n",
      "n13: 219329.49445861674<-10.557045340045335\n",
      "n14: 206155.4529586214<-1.339702819558822\n",
      "n15: 221022.4264233693<0.028016479439367272\n",
      "n16: 225817.0808943682<-1.5691538488185655\n",
      "n17: 224829.74539416799<-3.5636762869160314\n",
      "n18: 21159.059516052315<159.28004603809322\n",
      "n19: 235750.03182134865<9.684588658515398\n",
      "n20: 1407.8196031603943<-7.1777305525404165\n",
      "n21: 239200.0<0.0\n",
      "n22: 1517.9325708298936<-20.719955667065864\n",
      "n23: 235749.98051658118<4.867983313733503\n",
      "n24: 696.0789693126276<-13.177812902912871\n"
     ]
    }
   ],
   "source": [
    "for node, phasor in phasors_ctrl.items():\n",
    "    print(node + ': ' + str(phasor['abs'].values[-1]) + '<' + str(phasor['phase'].values[-1]))"
   ]
  },
  {
   "cell_type": "markdown",
   "metadata": {},
   "source": [
    "### Phasors at last time step in per unit"
   ]
  },
  {
   "cell_type": "code",
   "execution_count": 183,
   "metadata": {},
   "outputs": [
    {
     "name": "stdout",
     "output_type": "stream",
     "text": [
      "n1: 1.0249997512929072<9.684590296261968\n",
      "n2: 0.9975170859454736<3.959166955541561\n",
      "n3: 0.9793688883212175<0.8177899789788123\n",
      "n4: 0.9509075646634723<-4.156466518930222\n",
      "n5: 1.04<-0.0\n",
      "n6: 1.0042952898983344<2.089030762196945\n",
      "n7: 0.9665230943640961<-3.7513777347353714\n",
      "n8: 0.9959984227048325<-2.3259639988162664\n",
      "n9: 1.0250002053288687<4.867982745992806\n"
     ]
    }
   ],
   "source": [
    "nominal_voltages_ctrl = {'n1': 18000, 'n2': 230000, 'n3': 230000, 'n4': 230000, 'n5': 16500, 'n6': 230000, 'n7': 230000, 'n8': 230000, 'n9': 13800}\n",
    "for node, nom_voltage in nominal_voltages_ctrl.items():\n",
    "    print(node + ': ' + str(phasors_ctrl[node]['abs'].values[0] / nom_voltage) + '<' + str(phasors_ctrl[node]['phase'].values[0]))"
   ]
  },
  {
   "cell_type": "markdown",
   "metadata": {},
   "source": [
    "### Plot node voltages"
   ]
  },
  {
   "cell_type": "code",
   "execution_count": 184,
   "metadata": {},
   "outputs": [
    {
     "data": {
      "text/plain": [
       "(210000, 235000)"
      ]
     },
     "execution_count": 184,
     "metadata": {},
     "output_type": "execute_result"
    },
    {
     "data": {
      "image/png": "[encoded data removed]",
      "text/plain": [
       "<Figure size 432x288 with 1 Axes>"
      ]
     },
     "metadata": {},
     "output_type": "display_data"
    }
   ],
   "source": [
    "plot_timeseries(2, phasors_ctrl['n2']['abs'])\n",
    "plot_timeseries(2, phasors_ctrl['n3']['abs'])\n",
    "plot_timeseries(2, phasors_ctrl['n4']['abs'])\n",
    "plot_timeseries(2, phasors_ctrl['n6']['abs'])\n",
    "plot_timeseries(2, phasors_ctrl['n7']['abs'])\n",
    "plot_timeseries(2, phasors_ctrl['n8']['abs'])\n",
    "plt.gca().axes.set_ylim([210000,235000])\n",
    "#plt.gca().axes.set_xlim([7.28,7.3])"
   ]
  },
  {
   "cell_type": "markdown",
   "metadata": {},
   "source": [
    "Plot original data without controlled load."
   ]
  },
  {
   "cell_type": "code",
   "execution_count": 185,
   "metadata": {},
   "outputs": [
    {
     "data": {
      "text/plain": [
       "(200000, 240000)"
      ]
     },
     "execution_count": 185,
     "metadata": {},
     "output_type": "execute_result"
    },
    {
     "data": {
      "image/png": "[encoded data removed]",
      "text/plain": [
       "<Figure size 432x288 with 1 Axes>"
      ]
     },
     "metadata": {},
     "output_type": "display_data"
    }
   ],
   "source": [
    "plot_timeseries(2, phasors_orig['n2']['abs'])\n",
    "plot_timeseries(2, phasors_orig['n3']['abs'])\n",
    "plot_timeseries(2, phasors_orig['n4']['abs'])\n",
    "plot_timeseries(2, phasors_orig['n6']['abs'])\n",
    "plot_timeseries(2, phasors_orig['n7']['abs'])\n",
    "plot_timeseries(2, phasors_orig['n8']['abs'])\n",
    "plt.gca().axes.set_ylim([200000,240000])"
   ]
  },
  {
   "cell_type": "code",
   "execution_count": null,
   "metadata": {},
   "outputs": [],
   "source": []
  }
 ],
 "metadata": {
  "kernelspec": {
   "display_name": "Python 3",
   "language": "python",
   "name": "python3"
  },
  "language_info": {
   "codemirror_mode": {
    "name": "ipython",
    "version": 3
   },
   "file_extension": ".py",
   "mimetype": "text/x-python",
   "name": "python",
   "nbconvert_exporter": "python",
   "pygments_lexer": "ipython3",
   "version": "3.6.4"
  }
 },
 "nbformat": 4,
 "nbformat_minor": 2
}
