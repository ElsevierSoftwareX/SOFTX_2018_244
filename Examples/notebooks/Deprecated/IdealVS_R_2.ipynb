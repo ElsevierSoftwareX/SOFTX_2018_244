{
 "cells": [
  {
   "cell_type": "code",
   "execution_count": null,
   "metadata": {},
   "outputs": [],
   "source": [
    "import dpsim\n",
    "import dataprocessing.readtools as rt\n",
    "import dataprocessing.timeseries as ts\n",
    "\n",
    "# Nodes\n",
    "gnd = dpsim.dp.Node.GND()\n",
    "n1 =  dpsim.dp.Node(\"n1\")\n",
    "n2 =  dpsim.dp.Node(\"n2\")\n",
    "\n",
    "# Components\n",
    "vin = dpsim.dp.ph1.VoltageSource(\"v_in\", [n1, n2], voltage_ref=10)\n",
    "r1 =  dpsim.dp.ph1.Resistor(\"r_1\", [n1, gnd], resistance=1)\n",
    "r2 =  dpsim.dp.ph1.Resistor(\"r_2\", [n2, gnd], resistance=1)\n",
    "r3 =  dpsim.dp.ph1.Resistor(\"r_3\", [n2, gnd], resistance=1)\n",
    "\n",
    "system = dpsim.SystemTopology(50, [gnd, n1, n2], [vin, r1, r2, r3])\n",
    "\n",
    "sim = dpsim.Simulation('IdealVS_R_2', system, duration=0.2, timestep=0.00005)\n",
    "sim.run()\n",
    "\n",
    "results = rt.read_timeseries_dpsim_cmpl('Logs/' + sim.name + '_LeftVector.csv')\n",
    "expected = rt.read_timeseries_dpsim_real('Examples/Results/Simulink/Circuits/SL_' + sim.name + '.csv')\n",
    "\n",
    "err = 0\n",
    "err += ts.TimeSeries.rmse(expected[0], results[0].dynphasor_shift_to_emt('n1_emt', 50))\n",
    "err += ts.TimeSeries.rmse(expected[1], results[1].dynphasor_shift_to_emt('n2_emt', 50))\n",
    "\n",
    "print(\"Total RMSE: %g\" % (err))\n",
    "\n",
    "assert err < 1e-4"
   ]
  }
 ],
 "metadata": {
  "kernelspec": {
   "display_name": "Python 3",
   "language": "python",
   "name": "python3"
  },
  "language_info": {
   "codemirror_mode": {
    "name": "ipython",
    "version": 3
   },
   "file_extension": ".py",
   "mimetype": "text/x-python",
   "name": "python",
   "nbconvert_exporter": "python",
   "pygments_lexer": "ipython3",
   "version": "3.6.4"
  }
 },
 "nbformat": 4,
 "nbformat_minor": 2
}
