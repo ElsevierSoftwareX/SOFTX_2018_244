{
 "cells": [
  {
   "cell_type": "code",
   "execution_count": 1,
   "metadata": {},
   "outputs": [
    {
     "data": {
      "application/vnd.jupyter.widget-view+json": {
       "model_id": "a0e2ad5ce57144fca77279e5f0537882",
       "version_major": 2,
       "version_minor": 0
      },
      "text/html": [
       "<p>Failed to display Jupyter Widget of type <code>FigureCanvasNbAgg</code>.</p>\n",
       "<p>\n",
       "  If you're reading this message in the Jupyter Notebook or JupyterLab Notebook, it may mean\n",
       "  that the widgets JavaScript is still loading. If this message persists, it\n",
       "  likely means that the widgets JavaScript library is either not installed or\n",
       "  not enabled. See the <a href=\"https://ipywidgets.readthedocs.io/en/stable/user_install.html\">Jupyter\n",
       "  Widgets Documentation</a> for setup instructions.\n",
       "</p>\n",
       "<p>\n",
       "  If you're reading this message in another frontend (for example, a static\n",
       "  rendering on GitHub or <a href=\"https://nbviewer.jupyter.org/\">NBViewer</a>),\n",
       "  it may mean that your frontend doesn't currently support widgets.\n",
       "</p>\n"
      ],
      "text/plain": [
       "FigureCanvasNbAgg()"
      ]
     },
     "metadata": {},
     "output_type": "display_data"
    },
    {
     "name": "stderr",
     "output_type": "stream",
     "text": [
      "/opt/local/Library/Frameworks/Python.framework/Versions/3.6/lib/python3.6/site-packages/ipympl/backend_nbagg.py:190: MatplotlibDeprecationWarning: The start_event_loop_default function was deprecated in version 2.1.\n",
      "  FigureCanvasBase.start_event_loop_default(self, timeout)\n"
     ]
    }
   ],
   "source": [
    "%matplotlib ipympl\n",
    "\n",
    "import numpy as np\n",
    "import matplotlib.pyplot as plt\n",
    "\n",
    "fs = 100 # sample rate \n",
    "f = 2 # the frequency of the signal\n",
    "\n",
    "fig = plt.figure()\n",
    "ax = fig.add_subplot(111)\n",
    "\n",
    "plt.ion()\n",
    "\n",
    "fig.show()\n",
    "fig.canvas.draw()\n",
    "\n",
    "for j in range(0,100):\n",
    "    x = np.arange(fs) # the points on the x axis for plotting\n",
    "    # compute the value (amplitude) of the sin wave at the for each sample\n",
    "    y = [ np.sin(2*np.pi*f * (i/fs) + j/100*2*np.pi) for i in x]\n",
    "\n",
    "    ax.clear()\n",
    "    plt.plot(x,y)\n",
    "    fig.canvas.draw()\n",
    "    plt.pause(0.05)"
   ]
  },
  {
   "cell_type": "code",
   "execution_count": 7,
   "metadata": {},
   "outputs": [
    {
     "name": "stderr",
     "output_type": "stream",
     "text": [
      "/opt/local/Library/Frameworks/Python.framework/Versions/3.6/lib/python3.6/site-packages/ipympl/backend_nbagg.py:190: MatplotlibDeprecationWarning: The start_event_loop_default function was deprecated in version 2.1.\n",
      "  FigureCanvasBase.start_event_loop_default(self, timeout)\n"
     ]
    },
    {
     "name": "stdout",
     "output_type": "stream",
     "text": [
      "FPS: 16.850281178228162\n"
     ]
    }
   ],
   "source": [
    "from pylab import *\n",
    "import time\n",
    "\n",
    "ion()\n",
    "\n",
    "tstart = time.time()               # for profiling\n",
    "x = arange(0,2*pi,0.01)            # x-array\n",
    "line, = plot(x,sin(x))\n",
    "for i in arange(1,200):\n",
    "    line.set_ydata(sin(x+i/10.0))  # update the data\n",
    "    draw()                         # redraw the canvas\n",
    "    plt.pause(0.05)\n",
    "\n",
    "print('FPS:' , 200/(time.time()-tstart))"
   ]
  },
  {
   "cell_type": "code",
   "execution_count": null,
   "metadata": {},
   "outputs": [],
   "source": []
  }
 ],
 "metadata": {
  "kernelspec": {
   "display_name": "Python 3",
   "language": "python",
   "name": "python3"
  },
  "language_info": {
   "codemirror_mode": {
    "name": "ipython",
    "version": 3
   },
   "file_extension": ".py",
   "mimetype": "text/x-python",
   "name": "python",
   "nbconvert_exporter": "python",
   "pygments_lexer": "ipython3",
   "version": "3.6.5"
  }
 },
 "nbformat": 4,
 "nbformat_minor": 2
}
