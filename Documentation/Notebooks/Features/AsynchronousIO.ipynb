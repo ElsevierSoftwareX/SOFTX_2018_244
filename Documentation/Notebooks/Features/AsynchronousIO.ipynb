{
 "cells": [
  {
   "cell_type": "markdown",
   "metadata": {},
   "source": [
    "# Asynchronous execution"
   ]
  },
  {
   "cell_type": "markdown",
   "metadata": {},
   "source": [
    " DPsim integrates well with event loop implementation like [asyncio](https://docs.python.org/3/library/asyncio.html).\n",
    " \n",
    " This allows the user to run simulations as a coroutine asynchronously in the background."
   ]
  },
  {
   "cell_type": "markdown",
   "metadata": {},
   "source": [
    "## Example 1"
   ]
  },
  {
   "cell_type": "markdown",
   "metadata": {},
   "source": [
    "We start by defining a very simple simulation:"
   ]
  },
  {
   "cell_type": "code",
   "execution_count": 24,
   "metadata": {},
   "outputs": [],
   "source": [
    "import time\n",
    "import asyncio\n",
    "import dpsim\n",
    "from dpsim.EventChannel import Event\n",
    "\n",
    "# Nodes\n",
    "gnd = dpsim.dp.Node.GND()\n",
    "n1 = dpsim.dp.Node(\"n1\")\n",
    "\n",
    "# Components\n",
    "v1 = dpsim.dp.ph1.VoltageSource(\"v_1\", [gnd, n1], V_ref=345)\n",
    "\n",
    "sys = dpsim.SystemTopology(50, [gnd, n1], [v1])"
   ]
  },
  {
   "cell_type": "markdown",
   "metadata": {},
   "source": [
    "The <code>dpsim.Simulation</code> class has a function called `coro simulate()` which returns a coroutine.\n",
    "this co-routine can be started in the background via:"
   ]
  },
  {
   "cell_type": "code",
   "execution_count": 37,
   "metadata": {},
   "outputs": [
    {
     "data": {
      "application/vnd.jupyter.widget-view+json": {
       "model_id": "6680b1bf459b43a8b29af7effc6045b3",
       "version_major": 2,
       "version_minor": 0
      },
      "text/plain": [
       "HTML(value='Simulation start is pending...')"
      ]
     },
     "metadata": {},
     "output_type": "display_data"
    },
    {
     "data": {
      "application/vnd.jupyter.widget-view+json": {
       "model_id": "044ff5b943824033ae3f8bed09ef9c09",
       "version_major": 2,
       "version_minor": 0
      },
      "text/plain": [
       "FloatProgress(value=0.0, max=3.0)"
      ]
     },
     "metadata": {},
     "output_type": "display_data"
    },
    {
     "data": {
      "application/vnd.jupyter.widget-view+json": {
       "model_id": "07ce93e2edba40e48eab581f26755a94",
       "version_major": 2,
       "version_minor": 0
      },
      "text/plain": [
       "HTML(value='Simulation start is pending...')"
      ]
     },
     "metadata": {},
     "output_type": "display_data"
    },
    {
     "data": {
      "application/vnd.jupyter.widget-view+json": {
       "model_id": "7d313bd7a8454e6381101aaff524df02",
       "version_major": 2,
       "version_minor": 0
      },
      "text/plain": [
       "FloatProgress(value=0.0, max=6.0)"
      ]
     },
     "metadata": {},
     "output_type": "display_data"
    },
    {
     "data": {
      "application/vnd.jupyter.widget-view+json": {
       "model_id": "b2d1cf6e000d49b6a3110167378219bd",
       "version_major": 2,
       "version_minor": 0
      },
      "text/plain": [
       "HTML(value='Simulation start is pending...')"
      ]
     },
     "metadata": {},
     "output_type": "display_data"
    },
    {
     "data": {
      "application/vnd.jupyter.widget-view+json": {
       "model_id": "01a32641991547c58684b86d5362a610",
       "version_major": 2,
       "version_minor": 0
      },
      "text/plain": [
       "FloatProgress(value=0.0, max=9.0)"
      ]
     },
     "metadata": {},
     "output_type": "display_data"
    },
    {
     "name": "stdout",
     "output_type": "stream",
     "text": [
      "Doing something different: 1\n",
      "Doing something different: 2\n",
      "Doing something different: 3\n",
      "Doing something different: 4\n",
      "Doing something different: 5\n"
     ]
    }
   ],
   "source": [
    "sims = []\n",
    "for i in range(1, 4):\n",
    "    sim = dpsim.RealTimeSimulation(\"async_demo_%d\" % i, sys, timestep = i * 1e-3, duration=3*i, pbar=True)\n",
    "    sim.start()\n",
    "    \n",
    "    sims += [sim]\n",
    "\n",
    "for i in range(1, 6):\n",
    "    print(\"Doing something different: %d\" % i)\n",
    "    await asyncio.sleep(1)\n",
    "    \n",
    "_ = await asyncio.wait([ s.wait(Event.done) for s in sims ])"
   ]
  }
 ],
 "metadata": {
  "kernelspec": {
   "display_name": "Python 3",
   "language": "python",
   "name": "python3"
  },
  "language_info": {
   "codemirror_mode": {
    "name": "ipython",
    "version": 3
   },
   "file_extension": ".py",
   "mimetype": "text/x-python",
   "name": "python",
   "nbconvert_exporter": "python",
   "pygments_lexer": "ipython3",
   "version": "3.7.0"
  }
 },
 "nbformat": 4,
 "nbformat_minor": 2
}
