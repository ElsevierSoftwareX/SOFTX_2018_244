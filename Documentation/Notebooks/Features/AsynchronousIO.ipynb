{
 "cells": [
  {
   "cell_type": "markdown",
   "metadata": {},
   "source": [
    "# Asynchronous execution"
   ]
  },
  {
   "cell_type": "markdown",
   "metadata": {},
   "source": [
    " DPsim integrates well with event loop implementation like [asyncio](https://docs.python.org/3/library/asyncio.html).\n",
    " \n",
    " This allows the user to run simulations as a coroutine asynchronously in the background."
   ]
  },
  {
   "cell_type": "markdown",
   "metadata": {},
   "source": [
    "## Example 1"
   ]
  },
  {
   "cell_type": "markdown",
   "metadata": {},
   "source": [
    "We start by defining a very simple simulation:"
   ]
  },
  {
   "cell_type": "code",
   "execution_count": 4,
   "metadata": {},
   "outputs": [],
   "source": [
    "import asyncio\n",
    "import time\n",
    "\n",
    "import dpsim as dps\n",
    "import dpsim.components.dp as dp\n",
    "\n",
    "# Nodes\n",
    "gnd = dps.Node.GND()\n",
    "n1 = dps.Node(\"n1\")\n",
    "\n",
    "# Components\n",
    "v1 = dp.VoltageSource(\"v_1\", [gnd, n1], 345)\n",
    "\n",
    "sys = dps.SystemTopology(50, [gnd, n1], [v1])"
   ]
  },
  {
   "cell_type": "markdown",
   "metadata": {},
   "source": [
    "In Jupyter, we can start the internal event loop with the following cell magic"
   ]
  },
  {
   "cell_type": "code",
   "execution_count": 5,
   "metadata": {},
   "outputs": [],
   "source": [
    "%gui asyncio"
   ]
  },
  {
   "cell_type": "markdown",
   "metadata": {},
   "source": [
    "The <code>dpsim.Simulation</code> class has a function called `coro simulate()` which returns a coroutine.\n",
    "this co-routine can be started in the background via:"
   ]
  },
  {
   "cell_type": "code",
   "execution_count": 7,
   "metadata": {},
   "outputs": [
    {
     "data": {
      "text/plain": [
       "<Task pending coro=<Simulation.simulate() running at /opt/local/Library/Frameworks/Python.framework/Versions/3.6/lib/python3.6/site-packages/dpsim/Simulation.py:110> cb=[done() at <ipython-input-7-c6143186cd6d>:1]>"
      ]
     },
     "execution_count": 7,
     "metadata": {},
     "output_type": "execute_result"
    },
    {
     "name": "stdout",
     "output_type": "stream",
     "text": [
      "Simulation has finished\n"
     ]
    }
   ],
   "source": [
    "def done(arg):\n",
    "        print(\"Simulation has finished\")\n",
    "\n",
    "# Get the default event loop\n",
    "loop = asyncio.get_event_loop()\n",
    "\n",
    "sim = dps.Simulation(\"async_demo1\", sys, duration = 50, loop = loop)\n",
    "        \n",
    "coro = sim.simulate()\n",
    "\n",
    "task = loop.create_task(coro)\n",
    "task.add_done_callback(done)\n",
    "\n",
    "asyncio.ensure_future(task)\n",
    "\n",
    "for i in range(1,10):\n",
    "    time.sleep(1)\n",
    "    print('Doing something different:', i)"
   ]
  },
  {
   "cell_type": "code",
   "execution_count": null,
   "metadata": {},
   "outputs": [],
   "source": []
  }
 ],
 "metadata": {
  "kernelspec": {
   "display_name": "Python 3",
   "language": "python",
   "name": "python3"
  },
  "language_info": {
   "codemirror_mode": {
    "name": "ipython",
    "version": 3
   },
   "file_extension": ".py",
   "mimetype": "text/x-python",
   "name": "python",
   "nbconvert_exporter": "python",
   "pygments_lexer": "ipython3",
   "version": "3.6.5"
  }
 },
 "nbformat": 4,
 "nbformat_minor": 2
}
