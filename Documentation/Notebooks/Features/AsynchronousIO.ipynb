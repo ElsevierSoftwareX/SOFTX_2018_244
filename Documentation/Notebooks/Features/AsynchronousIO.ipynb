{
 "cells": [
  {
   "cell_type": "markdown",
   "metadata": {},
   "source": [
    "# Asynchronous execution"
   ]
  },
  {
   "cell_type": "markdown",
   "metadata": {},
   "source": [
    " DPsim integrates well with event loop implementation like [asyncio](https://docs.python.org/3/library/asyncio.html).\n",
    " \n",
    " This allows the user to run simulations as a coroutine asynchronously in the background."
   ]
  },
  {
   "cell_type": "markdown",
   "metadata": {},
   "source": [
    "## Example 1"
   ]
  },
  {
   "cell_type": "markdown",
   "metadata": {},
   "source": [
    "We start by defining a very simple simulation:"
   ]
  },
  {
   "cell_type": "code",
   "execution_count": 1,
   "metadata": {},
   "outputs": [],
   "source": [
    "import asyncio\n",
    "import time\n",
    "\n",
    "import dpsim\n",
    "\n",
    "# Nodes\n",
    "gnd = dpsim.dp.Node.GND()\n",
    "n1 = dpsim.dp.Node(\"n1\")\n",
    "\n",
    "# Components\n",
    "v1 = dpsim.dp.ph1.VoltageSource(\"v_1\", [gnd, n1], v_ref=345)\n",
    "\n",
    "sys = dpsim.SystemTopology(50, [gnd, n1], [v1])"
   ]
  },
  {
   "cell_type": "markdown",
   "metadata": {},
   "source": [
    "In Jupyter, we can start the internal event loop with the following cell magic"
   ]
  },
  {
   "cell_type": "code",
   "execution_count": 2,
   "metadata": {},
   "outputs": [],
   "source": [
    "%gui asyncio"
   ]
  },
  {
   "cell_type": "markdown",
   "metadata": {},
   "source": [
    "The <code>dpsim.Simulation</code> class has a function called `coro simulate()` which returns a coroutine.\n",
    "this co-routine can be started in the background via:"
   ]
  },
  {
   "cell_type": "code",
   "execution_count": 5,
   "metadata": {},
   "outputs": [
    {
     "data": {
      "application/vnd.jupyter.widget-view+json": {
       "model_id": "e0a97a8e4bbe40269faa30c15f172b3e",
       "version_major": 2,
       "version_minor": 0
      },
      "text/plain": [
       "HTML(value='Simulation start is pending...')"
      ]
     },
     "metadata": {},
     "output_type": "display_data"
    },
    {
     "data": {
      "application/vnd.jupyter.widget-view+json": {
       "model_id": "877de605553e4c2ea3e99afdc9f95d49",
       "version_major": 2,
       "version_minor": 0
      },
      "text/plain": [
       "FloatProgress(value=0.0, max=50.0)"
      ]
     },
     "metadata": {},
     "output_type": "display_data"
    },
    {
     "data": {
      "text/plain": [
       "<Task pending coro=<Simulation.simulate() running at /Users/stv0g/workspace/rwth/acs/core/simulation/dpsim/Source/Python/dpsim/Simulation.py:121>>"
      ]
     },
     "execution_count": 5,
     "metadata": {},
     "output_type": "execute_result"
    }
   ],
   "source": [
    "def done(arg):\n",
    "        print(\"Simulation has finished\")\n",
    "\n",
    "# Get the default event loop\n",
    "loop = asyncio.get_event_loop()\n",
    "\n",
    "sim = dpsim.Simulation(\"async_demo1\", sys, duration=50, loop=loop, pbar=True)\n",
    "\n",
    "asyncio.ensure_future(sim.simulate())"
   ]
  },
  {
   "cell_type": "code",
   "execution_count": null,
   "metadata": {},
   "outputs": [],
   "source": []
  }
 ],
 "metadata": {
  "kernelspec": {
   "display_name": "Python 3",
   "language": "python",
   "name": "python3"
  },
  "language_info": {
   "codemirror_mode": {
    "name": "ipython",
    "version": 3
   },
   "file_extension": ".py",
   "mimetype": "text/x-python",
   "name": "python",
   "nbconvert_exporter": "python",
   "pygments_lexer": "ipython3",
   "version": "3.7.0"
  }
 },
 "nbformat": 4,
 "nbformat_minor": 2
}
