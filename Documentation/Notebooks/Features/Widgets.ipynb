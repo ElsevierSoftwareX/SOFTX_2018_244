{
 "cells": [
  {
   "cell_type": "markdown",
   "metadata": {},
   "source": [
    "# Widgets\n",
    "\n",
    "This example uses slider widgets to adjust parameters"
   ]
  },
  {
   "cell_type": "code",
   "execution_count": 1,
   "metadata": {},
   "outputs": [],
   "source": [
    "import dpsim\n",
    "import math, cmath\n",
    "import time\n",
    "import os\n",
    "\n",
    "import matplotlib as plt\n",
    "from dataprocessing.dpsim import *\n",
    "from dataprocessing.plottools import *\n",
    "\n",
    "%matplotlib inline\n",
    "%config InlineBackend.figure_format = 'svg'"
   ]
  },
  {
   "cell_type": "code",
   "execution_count": 2,
   "metadata": {},
   "outputs": [],
   "source": [
    "def simulate(dt, dur, pha, mag, r1, r2, l, c):    \n",
    "    gnd = dpsim.dp.Node.GND()\n",
    "    n1 =  dpsim.dp.Node(\"n1\")\n",
    "    n2 =  dpsim.dp.Node(\"n2\")\n",
    "\n",
    "    cs = dpsim.dp.ph1.CurrentSource(\"cs\", [gnd, n1], I_ref=cmath.rect(mag, pha))\n",
    "    r1 = dpsim.dp.ph1.Resistor(\"r_1\", [n1, gnd], R=r1)\n",
    "    c1 = dpsim.dp.ph1.Capacitor(\"c_1\", [n1, n2], C=c)\n",
    "    l1 = dpsim.dp.ph1.Inductor(\"l_1\", [n2, gnd], L=l*1e-3)\n",
    "    r2 = dpsim.dp.ph1.Resistor(\"r_2\", [n2, gnd], R=r2*1e-3)\n",
    "\n",
    "    sys = dpsim.SystemTopology(50, [gnd, n1, n2], [cs, r1, c1, l1, r2])\n",
    "    sim = dpsim.Simulation(\"Widgets\", sys, duration=dur, timestep=dt)\n",
    "    \n",
    "    logger = dpsim.Logger(\"Widgets\")\n",
    "    logger.log_attribute(n1, \"v\") # v1\n",
    "    logger.log_attribute(n2, \"v\") # v2\n",
    "    logger.log_attribute(cs, \"i_intf\") # i12\n",
    "    logger.log_attribute(c1, \"i_intf\") # i34\n",
    "    sim.add_logger(logger)\n",
    "    \n",
    "    sim.start()\n",
    "    while sim.state != 9:\n",
    "        time.sleep(0.01)\n",
    "        \n",
    "    os.system('head -n-1 Logs/Widgets.csv > Logs/Widgets_fixed.csv')\n",
    "        \n",
    "    results = read_timeseries_dpsim('Logs/Widgets_fixed.csv')\n",
    "    for l in [ 'n1.v', 'n2.v', 'cs.i_intf', 'c_1.i_intf' ]:\n",
    "        emt = results[l].dynphasor_shift_to_emt(l + '_emt', 50)\n",
    "        plot_timeseries(1, emt)"
   ]
  },
  {
   "cell_type": "code",
   "execution_count": 3,
   "metadata": {},
   "outputs": [
    {
     "data": {
      "application/vnd.jupyter.widget-view+json": {
       "model_id": "7797e18ed719444c8db6a7d6be637fdd",
       "version_major": 2,
       "version_minor": 0
      },
      "text/plain": [
       "interactive(children=(FloatText(value=0.001, description='Timestep [s]'), FloatText(value=0.1, description='Du…"
      ]
     },
     "metadata": {},
     "output_type": "display_data"
    }
   ],
   "source": [
    "from ipywidgets import interact, interactive, fixed, interact_manual\n",
    "import ipywidgets as widgets\n",
    "\n",
    "output = interactive(simulate,\n",
    "    dt  = widgets.FloatText(description=\"Timestep [s]\", value=1e-3, min=1e-3, max=1),\n",
    "    dur = widgets.FloatText(description=\"Duration [s]\", value=0.1, min=0, max=10),\n",
    "    pha = widgets.FloatSlider(description=\"Phase [rad]\", min=-math.pi, max=math.pi),\n",
    "    mag = widgets.FloatSlider(description=\"Magnitude [V]\", value=10, min=0, max=100),\n",
    "    r1  = widgets.FloatSlider(description=\"Resistance [Ohm]\", value=1, min=0.1, max=10),\n",
    "    r2  = widgets.FloatSlider(description=\"Resistance [Ohm]\", value=1, min=0.1, max=10),\n",
    "    l   = widgets.FloatSlider(description=\"Inductance [H]\", value=1, min=1, max=10),\n",
    "    c   = widgets.FloatSlider(description=\"Capactance [F]\", value=1, min=1, max=10),\n",
    "    continuous_update=False\n",
    ")\n",
    "\n",
    "last = output.children[-1]\n",
    "last.layout.height = '400px'\n",
    "output"
   ]
  }
 ],
 "metadata": {
  "kernelspec": {
   "display_name": "Python 3",
   "language": "python",
   "name": "python3"
  },
  "language_info": {
   "codemirror_mode": {
    "name": "ipython",
    "version": 3
   },
   "file_extension": ".py",
   "mimetype": "text/x-python",
   "name": "python",
   "nbconvert_exporter": "python",
   "pygments_lexer": "ipython3",
   "version": "3.7.0"
  }
 },
 "nbformat": 4,
 "nbformat_minor": 2
}
