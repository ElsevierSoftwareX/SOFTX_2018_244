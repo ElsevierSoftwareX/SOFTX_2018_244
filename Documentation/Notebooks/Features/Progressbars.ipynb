{
 "cells": [
  {
   "cell_type": "markdown",
   "metadata": {},
   "source": [
    "# Progressbars"
   ]
  },
  {
   "cell_type": "markdown",
   "metadata": {},
   "source": [
    "During long running or real-time simulations it is useful to have a feedback from the running simulation about its current state.\n",
    "\n",
    "DPsim can show its current progress"
   ]
  },
  {
   "cell_type": "markdown",
   "metadata": {},
   "source": [
    "## Example 1"
   ]
  },
  {
   "cell_type": "code",
   "execution_count": 1,
   "metadata": {},
   "outputs": [],
   "source": [
    "import dpsim\n",
    "\n",
    "# Nodes\n",
    "gnd = dpsim.dp.Node.GND()\n",
    "n1 =  dpsim.dp.Node(\"n1\")\n",
    "n2 =  dpsim.dp.Node(\"n2\")\n",
    "n3 =  dpsim.dp.Node(\"n3\")\n",
    "n4 =  dpsim.dp.Node(\"n4\")\n",
    "\n",
    "# Components\n",
    "v1 =  dpsim.dp.ph1.VoltageSource(\"v_1\", [gnd, n1], v_ref=345)\n",
    "r1 =  dpsim.dp.ph1.Resistor(\"r1\", [n1, n2], resistance=5)\n",
    "c1 =  dpsim.dp.ph1.Capacitor(\"c_1\", [n2, gnd], capacitance=0.002)\n",
    "rL1 = dpsim.dp.ph1.Resistor(\"r_load1\", [n2, n4], resistance=6.4)\n",
    "l1 =  dpsim.dp.ph1.Inductor(\"l_1\", [n4, n3], inductance=0.186)\n",
    "c2 =  dpsim.dp.ph1.Capacitor(\"c_2\", [n3, gnd], capacitance=0.002)\n",
    "rL2 = dpsim.dp.ph1.Resistor(\"r_load2\", [n3, gnd], resistance=150)\n",
    "\n",
    "sys = dpsim.SystemTopology(50, [gnd, n1, n2, n3, n4], [v1, r1, c1, rL1, l1, c2, rL2])\n",
    "sim = dpsim.Simulation(\"progress_demo1\", sys, duration=20, timestep=0.0005)"
   ]
  },
  {
   "cell_type": "code",
   "execution_count": 2,
   "metadata": {},
   "outputs": [
    {
     "data": {
      "application/vnd.jupyter.widget-view+json": {
       "model_id": "da5c5c0b5e044b0aab44179354d0c7d2",
       "version_major": 2,
       "version_minor": 0
      },
      "text/plain": [
       "HTML(value='Simulation start is pending...')"
      ]
     },
     "metadata": {},
     "output_type": "display_data"
    },
    {
     "data": {
      "application/vnd.jupyter.widget-view+json": {
       "model_id": "a16e104faf8f4ab289bbd5e21f3caf8d",
       "version_major": 2,
       "version_minor": 0
      },
      "text/plain": [
       "FloatProgress(value=0.0, max=20.0)"
      ]
     },
     "metadata": {},
     "output_type": "display_data"
    }
   ],
   "source": [
    "sim.show_progressbar()"
   ]
  },
  {
   "cell_type": "code",
   "execution_count": 3,
   "metadata": {},
   "outputs": [
    {
     "data": {
      "text/plain": [
       "<Task pending coro=<Simulation.simulate() running at /Users/stv0g/workspace/rwth/acs/core/simulation/dpsim/Source/Python/dpsim/Simulation.py:120>>"
      ]
     },
     "execution_count": 3,
     "metadata": {},
     "output_type": "execute_result"
    }
   ],
   "source": [
    "import asyncio\n",
    "%gui asyncio\n",
    "asyncio.ensure_future(sim.simulate())"
   ]
  },
  {
   "cell_type": "markdown",
   "metadata": {},
   "source": [
    "## Example 2"
   ]
  },
  {
   "cell_type": "markdown",
   "metadata": {},
   "source": [
    "Progressbars are also supported for simulations which are executed as a co-routine"
   ]
  },
  {
   "cell_type": "code",
   "execution_count": 6,
   "metadata": {},
   "outputs": [
    {
     "data": {
      "application/vnd.jupyter.widget-view+json": {
       "model_id": "11403219249d49ff932abfa7b38fc5d5",
       "version_major": 2,
       "version_minor": 0
      },
      "text/plain": [
       "HTML(value='Simulation start is pending...')"
      ]
     },
     "metadata": {},
     "output_type": "display_data"
    },
    {
     "data": {
      "application/vnd.jupyter.widget-view+json": {
       "model_id": "ffe88e59125c483fb5419fbafc466c71",
       "version_major": 2,
       "version_minor": 0
      },
      "text/plain": [
       "FloatProgress(value=0.0, max=20.0)"
      ]
     },
     "metadata": {},
     "output_type": "display_data"
    },
    {
     "data": {
      "text/plain": [
       "<Task pending coro=<dummy() running at <ipython-input-6-d4e77b028ebd>:4>>"
      ]
     },
     "execution_count": 6,
     "metadata": {},
     "output_type": "execute_result"
    }
   ],
   "source": [
    "import asyncio\n",
    "%gui asyncio\n",
    "\n",
    "async def dummy():\n",
    "    for i in range(1,10):\n",
    "        await asyncio.sleep(1)\n",
    "        print('Doing something different:', i)\n",
    "\n",
    "sim2 = dpsim.Simulation(\"progress_demo2\", sys, duration=20, timestep=0.00005)\n",
    "sim2.show_progressbar()\n",
    "\n",
    "asyncio.ensure_future(sim2.simulate())\n",
    "asyncio.ensure_future(dummy())"
   ]
  },
  {
   "cell_type": "code",
   "execution_count": null,
   "metadata": {},
   "outputs": [],
   "source": []
  }
 ],
 "metadata": {
  "kernelspec": {
   "display_name": "Python 3",
   "language": "python",
   "name": "python3"
  },
  "language_info": {
   "codemirror_mode": {
    "name": "ipython",
    "version": 3
   },
   "file_extension": ".py",
   "mimetype": "text/x-python",
   "name": "python",
   "nbconvert_exporter": "python",
   "pygments_lexer": "ipython3",
   "version": "3.7.0"
  }
 },
 "nbformat": 4,
 "nbformat_minor": 2
}
